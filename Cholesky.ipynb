{
  "nbformat": 4,
  "nbformat_minor": 0,
  "metadata": {
    "colab": {
      "provenance": []
    },
    "kernelspec": {
      "name": "python3",
      "display_name": "Python 3"
    },
    "language_info": {
      "name": "python"
    }
  },
  "cells": [
    {
      "cell_type": "code",
      "source": [
        "import cv2\n",
        "import math\n",
        "import numpy as np\n",
        "from PIL import Image\n",
        "from scipy.linalg import lu\n",
        "\n",
        "BLOCKSIZE = 4 # Kích thước các block\n",
        "WM_SIZE = 32  # Kích thước dấu thủy vân\n",
        "q = 10  # vòng lặp T cho arnold\n",
        "T =  0.0275"
      ],
      "metadata": {
        "id": "Ktuzj8Wzns4J"
      },
      "execution_count": 119,
      "outputs": []
    },
    {
      "cell_type": "code",
      "source": [
        "def cholesky(A):\n",
        "  if np.all(np.linalg.eigvals(A) > 0) is False:\n",
        "    return False # Trả về False nếu không xd dương\n",
        "  n = A.shape[0]  # Lấy kích thước của ma trận A\n",
        "  for i in range(n):\n",
        "          for j in range(n):\n",
        "              # Kiểm tra cac phần tử hiện tại và chuyển vị của nó\n",
        "                if (A[i][j] != A[j][i]):\n",
        "                    return False # Trả về False nếu tồn tại bất kỳ cặp không đối xứng\n",
        "  print(\"Đã xác định dương\")\n",
        "  return True"
      ],
      "metadata": {
        "id": "D_l8QR8_cONH"
      },
      "execution_count": 141,
      "outputs": []
    },
    {
      "cell_type": "code",
      "source": [
        "A = np.array([[1, 93, 93, 93],\n",
        " [93, 93, 93, 93],\n",
        " [93, 93, 93, 93],\n",
        " [93, 93, 93, 93]])\n",
        "cholesky(A)\n",
        "np.linalg.cholesky(A)"
      ],
      "metadata": {
        "colab": {
          "base_uri": "https://localhost:8080/",
          "height": 351
        },
        "id": "0HCPDf809Wpc",
        "outputId": "293f2c38-c3e4-413c-d312-40152b7b05b9"
      },
      "execution_count": 142,
      "outputs": [
        {
          "output_type": "stream",
          "name": "stdout",
          "text": [
            "Đã xác định dương\n"
          ]
        },
        {
          "output_type": "error",
          "ename": "LinAlgError",
          "evalue": "Matrix is not positive definite",
          "traceback": [
            "\u001b[0;31m---------------------------------------------------------------------------\u001b[0m",
            "\u001b[0;31mLinAlgError\u001b[0m                               Traceback (most recent call last)",
            "\u001b[0;32m<ipython-input-142-48391a819d19>\u001b[0m in \u001b[0;36m<cell line: 6>\u001b[0;34m()\u001b[0m\n\u001b[1;32m      4\u001b[0m  [93, 93, 93, 93]])\n\u001b[1;32m      5\u001b[0m \u001b[0mcholesky\u001b[0m\u001b[0;34m(\u001b[0m\u001b[0mA\u001b[0m\u001b[0;34m)\u001b[0m\u001b[0;34m\u001b[0m\u001b[0;34m\u001b[0m\u001b[0m\n\u001b[0;32m----> 6\u001b[0;31m \u001b[0mnp\u001b[0m\u001b[0;34m.\u001b[0m\u001b[0mlinalg\u001b[0m\u001b[0;34m.\u001b[0m\u001b[0mcholesky\u001b[0m\u001b[0;34m(\u001b[0m\u001b[0mA\u001b[0m\u001b[0;34m)\u001b[0m\u001b[0;34m\u001b[0m\u001b[0;34m\u001b[0m\u001b[0m\n\u001b[0m",
            "\u001b[0;32m/usr/local/lib/python3.10/dist-packages/numpy/linalg/linalg.py\u001b[0m in \u001b[0;36mcholesky\u001b[0;34m(a)\u001b[0m\n\u001b[1;32m    777\u001b[0m     \u001b[0mt\u001b[0m\u001b[0;34m,\u001b[0m \u001b[0mresult_t\u001b[0m \u001b[0;34m=\u001b[0m \u001b[0m_commonType\u001b[0m\u001b[0;34m(\u001b[0m\u001b[0ma\u001b[0m\u001b[0;34m)\u001b[0m\u001b[0;34m\u001b[0m\u001b[0;34m\u001b[0m\u001b[0m\n\u001b[1;32m    778\u001b[0m     \u001b[0msignature\u001b[0m \u001b[0;34m=\u001b[0m \u001b[0;34m'D->D'\u001b[0m \u001b[0;32mif\u001b[0m \u001b[0misComplexType\u001b[0m\u001b[0;34m(\u001b[0m\u001b[0mt\u001b[0m\u001b[0;34m)\u001b[0m \u001b[0;32melse\u001b[0m \u001b[0;34m'd->d'\u001b[0m\u001b[0;34m\u001b[0m\u001b[0;34m\u001b[0m\u001b[0m\n\u001b[0;32m--> 779\u001b[0;31m     \u001b[0mr\u001b[0m \u001b[0;34m=\u001b[0m \u001b[0mgufunc\u001b[0m\u001b[0;34m(\u001b[0m\u001b[0ma\u001b[0m\u001b[0;34m,\u001b[0m \u001b[0msignature\u001b[0m\u001b[0;34m=\u001b[0m\u001b[0msignature\u001b[0m\u001b[0;34m,\u001b[0m \u001b[0mextobj\u001b[0m\u001b[0;34m=\u001b[0m\u001b[0mextobj\u001b[0m\u001b[0;34m)\u001b[0m\u001b[0;34m\u001b[0m\u001b[0;34m\u001b[0m\u001b[0m\n\u001b[0m\u001b[1;32m    780\u001b[0m     \u001b[0;32mreturn\u001b[0m \u001b[0mwrap\u001b[0m\u001b[0;34m(\u001b[0m\u001b[0mr\u001b[0m\u001b[0;34m.\u001b[0m\u001b[0mastype\u001b[0m\u001b[0;34m(\u001b[0m\u001b[0mresult_t\u001b[0m\u001b[0;34m,\u001b[0m \u001b[0mcopy\u001b[0m\u001b[0;34m=\u001b[0m\u001b[0;32mFalse\u001b[0m\u001b[0;34m)\u001b[0m\u001b[0;34m)\u001b[0m\u001b[0;34m\u001b[0m\u001b[0;34m\u001b[0m\u001b[0m\n\u001b[1;32m    781\u001b[0m \u001b[0;34m\u001b[0m\u001b[0m\n",
            "\u001b[0;32m/usr/local/lib/python3.10/dist-packages/numpy/linalg/linalg.py\u001b[0m in \u001b[0;36m_raise_linalgerror_nonposdef\u001b[0;34m(err, flag)\u001b[0m\n\u001b[1;32m    113\u001b[0m \u001b[0;34m\u001b[0m\u001b[0m\n\u001b[1;32m    114\u001b[0m \u001b[0;32mdef\u001b[0m \u001b[0m_raise_linalgerror_nonposdef\u001b[0m\u001b[0;34m(\u001b[0m\u001b[0merr\u001b[0m\u001b[0;34m,\u001b[0m \u001b[0mflag\u001b[0m\u001b[0;34m)\u001b[0m\u001b[0;34m:\u001b[0m\u001b[0;34m\u001b[0m\u001b[0;34m\u001b[0m\u001b[0m\n\u001b[0;32m--> 115\u001b[0;31m     \u001b[0;32mraise\u001b[0m \u001b[0mLinAlgError\u001b[0m\u001b[0;34m(\u001b[0m\u001b[0;34m\"Matrix is not positive definite\"\u001b[0m\u001b[0;34m)\u001b[0m\u001b[0;34m\u001b[0m\u001b[0;34m\u001b[0m\u001b[0m\n\u001b[0m\u001b[1;32m    116\u001b[0m \u001b[0;34m\u001b[0m\u001b[0m\n\u001b[1;32m    117\u001b[0m \u001b[0;32mdef\u001b[0m \u001b[0m_raise_linalgerror_eigenvalues_nonconvergence\u001b[0m\u001b[0;34m(\u001b[0m\u001b[0merr\u001b[0m\u001b[0;34m,\u001b[0m \u001b[0mflag\u001b[0m\u001b[0;34m)\u001b[0m\u001b[0;34m:\u001b[0m\u001b[0;34m\u001b[0m\u001b[0;34m\u001b[0m\u001b[0m\n",
            "\u001b[0;31mLinAlgError\u001b[0m: Matrix is not positive definite"
          ]
        }
      ]
    },
    {
      "cell_type": "code",
      "source": [
        "def arnold_transform(matrix, iterations):\n",
        "  height, width = matrix.shape\n",
        "  print(height, width)\n",
        "  new_matrix = np.zeros((height, width), dtype=matrix.dtype)\n",
        "\n",
        "  for _ in range(iterations):\n",
        "      for x in range(height):\n",
        "          for y in range(width):\n",
        "              s = (x + y) % height\n",
        "              t = (x + 2*y) % width\n",
        "              new_matrix[s, t] = matrix[x, y]\n",
        "\n",
        "      matrix = new_matrix.copy()\n",
        "\n",
        "  return new_matrix"
      ],
      "metadata": {
        "id": "MO1BoAge4Caq"
      },
      "execution_count": 121,
      "outputs": []
    },
    {
      "cell_type": "code",
      "source": [
        "def invert_arnold_transform(matrix, iterations):\n",
        "  height, width = matrix.shape\n",
        "  print(height, width)\n",
        "  new_matrix = np.zeros((height, width), dtype=matrix.dtype)\n",
        "\n",
        "  for _ in range(iterations):\n",
        "      for s in range(height):\n",
        "          for t in range(width):\n",
        "              x = (2*s - t) % height\n",
        "              y = (t - s) % width\n",
        "              new_matrix[x, y] = matrix[s, t]\n",
        "\n",
        "      matrix = new_matrix.copy()\n",
        "\n",
        "  return new_matrix"
      ],
      "metadata": {
        "id": "nwPyac64Wml6"
      },
      "execution_count": 122,
      "outputs": []
    },
    {
      "cell_type": "code",
      "source": [
        "watermark = cv2.imread(\"/content/w_binary.png\", cv2.IMREAD_GRAYSCALE)\n",
        "arnold_watermark = arnold_transform(watermark, 10)\n",
        "cv2.imwrite(\"arnold_watermark.png\", arnold_watermark)"
      ],
      "metadata": {
        "colab": {
          "base_uri": "https://localhost:8080/"
        },
        "id": "um1MczCCWSAX",
        "outputId": "beeabfc2-f439-4154-a0f8-a4198af6b682"
      },
      "execution_count": 123,
      "outputs": [
        {
          "output_type": "stream",
          "name": "stdout",
          "text": [
            "32 32\n"
          ]
        },
        {
          "output_type": "execute_result",
          "data": {
            "text/plain": [
              "True"
            ]
          },
          "metadata": {},
          "execution_count": 123
        }
      ]
    },
    {
      "cell_type": "code",
      "source": [
        "arnold_watermark = cv2.imread(\"/content/arnold_watermark.png\", cv2.IMREAD_GRAYSCALE)\n",
        "watermark = invert_arnold_transform(arnold_watermark, 10)\n",
        "cv2.imwrite(\"watermark.png\", watermark)"
      ],
      "metadata": {
        "colab": {
          "base_uri": "https://localhost:8080/"
        },
        "id": "0tsIgyySYGTW",
        "outputId": "cbad7bd9-ba18-4f72-e2fe-9043c21c7aac"
      },
      "execution_count": 124,
      "outputs": [
        {
          "output_type": "stream",
          "name": "stdout",
          "text": [
            "32 32\n"
          ]
        },
        {
          "output_type": "execute_result",
          "data": {
            "text/plain": [
              "True"
            ]
          },
          "metadata": {},
          "execution_count": 124
        }
      ]
    },
    {
      "cell_type": "code",
      "execution_count": 125,
      "metadata": {
        "id": "vBrHovDGTJ0E"
      },
      "outputs": [],
      "source": [
        "def embed(filename, watermarkname, outfilename):\n",
        "\n",
        "  img = cv2.imread(filename)\n",
        "  print(\"Image size: {}\".format(img.shape))\n",
        "  watermark = cv2.imread(watermarkname, cv2.IMREAD_GRAYSCALE)\n",
        "  print(\"Watermark size: {}\".format(watermark.shape))\n",
        "\n",
        "  out_img = img.copy()  # Tạo ảnh đầu ra kích thước như ảnh gốc\n",
        "\n",
        "  arnold_watermark = arnold_transform(watermark, 10)  # Biến đổi arnold cho dấu thủy vân\n",
        "  w = arnold_watermark.flatten()  # Làm phẳng dấu thủy vân 1D\n",
        "  w = np.array(w/w.max(),dtype=np.uint8)\n",
        "  print(w[:10])\n",
        "  cv2.imwrite(\"arnold_watermark.png\", arnold_watermark) # Lưu lại dấu thủy vân sau biến đổi arnold\n",
        "\n",
        "  # Quét ảnh theo BLOCKSIZE = 4x4\n",
        "  i = 0\n",
        "  accepted = 0\n",
        "  not_accepted = 0\n",
        "  with open(\"cholesky.txt\", \"w\", encoding=\"utf-8\") as f:\n",
        "    for y in range(0, img.shape[0], BLOCKSIZE):\n",
        "      for x in range(0, img.shape[1], BLOCKSIZE):\n",
        "            block = img[y:y+BLOCKSIZE, x:x+BLOCKSIZE, 0].astype(np.uint8)\n",
        "            if cholesky(block) == False:\n",
        "              not_accepted += 1\n",
        "              continue # Nếu không thỏa điều kiện định thức thì bỏ qua\n",
        "            else: # Nếu thỏa thì xử lý phân tích cholesky\n",
        "              A = block\n",
        "              try:\n",
        "                L = np.linalg.cholesky(A)\n",
        "              except:\n",
        "                print(A)\n",
        "              LT=np.transpose(L)\n",
        "\n",
        "              if i == len(w):\n",
        "                i = 0\n",
        "\n",
        "              z = L[1, 0] - L[2, 0]\n",
        "              value = w[i]\n",
        "\n",
        "              if z >= 0 and value == 1:\n",
        "                L[1, 0] = L[2, 0] - T\n",
        "              elif z <= 0 and value == 0:\n",
        "                L[2, 0] = L[1, 0] - T\n",
        "\n",
        "              i += 1\n",
        "              accepted += 1\n",
        "              A = np.dot(L, LT)\n",
        "              f.write(\"{}\\n\".format(str(A.astype(np.uint8)).replace(\"\\n\", \"\")))\n",
        "              out_img[y:y+BLOCKSIZE, x:x+BLOCKSIZE, 0] = A.astype(np.uint8)\n",
        "  cv2.imwrite(outfilename, out_img)\n",
        "  print(\"Khối phù hợp: {}\".format(accepted))\n",
        "  print(\"Khối không phù hợp: {}\".format(not_accepted))"
      ]
    },
    {
      "cell_type": "code",
      "source": [
        "embed(filename = \"/content/lenna.bmp\",\n",
        "      watermarkname = \"/content/w_binary.png\",\n",
        "      outfilename = \"/content/embed_watermark.bmp\")"
      ],
      "metadata": {
        "colab": {
          "base_uri": "https://localhost:8080/",
          "height": 472
        },
        "id": "6szvruTSHwUn",
        "outputId": "155f9aa7-3376-4e24-b04a-95aefa12689b"
      },
      "execution_count": 126,
      "outputs": [
        {
          "output_type": "stream",
          "name": "stdout",
          "text": [
            "Image size: (512, 512, 3)\n",
            "Watermark size: (32, 32)\n",
            "32 32\n",
            "[1 1 1 1 0 1 1 1 0 0]\n",
            "hi\n",
            "[[93 93 93 93]\n",
            " [93 93 93 93]\n",
            " [93 93 93 93]\n",
            " [93 93 93 93]]\n"
          ]
        },
        {
          "output_type": "error",
          "ename": "UnboundLocalError",
          "evalue": "local variable 'L' referenced before assignment",
          "traceback": [
            "\u001b[0;31m---------------------------------------------------------------------------\u001b[0m",
            "\u001b[0;31mUnboundLocalError\u001b[0m                         Traceback (most recent call last)",
            "\u001b[0;32m<ipython-input-126-d0c0c69c4717>\u001b[0m in \u001b[0;36m<cell line: 1>\u001b[0;34m()\u001b[0m\n\u001b[0;32m----> 1\u001b[0;31m embed(filename = \"/content/lenna.bmp\",\n\u001b[0m\u001b[1;32m      2\u001b[0m       \u001b[0mwatermarkname\u001b[0m \u001b[0;34m=\u001b[0m \u001b[0;34m\"/content/w_binary.png\"\u001b[0m\u001b[0;34m,\u001b[0m\u001b[0;34m\u001b[0m\u001b[0;34m\u001b[0m\u001b[0m\n\u001b[1;32m      3\u001b[0m       outfilename = \"/content/embed_watermark.bmp\")\n",
            "\u001b[0;32m<ipython-input-125-49af02c6e82b>\u001b[0m in \u001b[0;36membed\u001b[0;34m(filename, watermarkname, outfilename)\u001b[0m\n\u001b[1;32m     31\u001b[0m               \u001b[0;32mexcept\u001b[0m\u001b[0;34m:\u001b[0m\u001b[0;34m\u001b[0m\u001b[0;34m\u001b[0m\u001b[0m\n\u001b[1;32m     32\u001b[0m                 \u001b[0mprint\u001b[0m\u001b[0;34m(\u001b[0m\u001b[0mA\u001b[0m\u001b[0;34m)\u001b[0m\u001b[0;34m\u001b[0m\u001b[0;34m\u001b[0m\u001b[0m\n\u001b[0;32m---> 33\u001b[0;31m               \u001b[0mLT\u001b[0m\u001b[0;34m=\u001b[0m\u001b[0mnp\u001b[0m\u001b[0;34m.\u001b[0m\u001b[0mtranspose\u001b[0m\u001b[0;34m(\u001b[0m\u001b[0mL\u001b[0m\u001b[0;34m)\u001b[0m\u001b[0;34m\u001b[0m\u001b[0;34m\u001b[0m\u001b[0m\n\u001b[0m\u001b[1;32m     34\u001b[0m \u001b[0;34m\u001b[0m\u001b[0m\n\u001b[1;32m     35\u001b[0m               \u001b[0;32mif\u001b[0m \u001b[0mi\u001b[0m \u001b[0;34m==\u001b[0m \u001b[0mlen\u001b[0m\u001b[0;34m(\u001b[0m\u001b[0mw\u001b[0m\u001b[0;34m)\u001b[0m\u001b[0;34m:\u001b[0m\u001b[0;34m\u001b[0m\u001b[0;34m\u001b[0m\u001b[0m\n",
            "\u001b[0;31mUnboundLocalError\u001b[0m: local variable 'L' referenced before assignment"
          ]
        }
      ]
    },
    {
      "cell_type": "code",
      "source": [
        "def extract(filename, outfilename):\n",
        "  img = cv2.imread(filename)\n",
        "  print(\"Image size: {}\".format(img.shape))\n",
        "\n",
        "  w = np.zeros(WM_SIZE**2, dtype=np.uint8)\n",
        "  cholesky = []\n",
        "  with open(\"cholesky.txt\", \"r\", encoding=\"utf-8\") as f:\n",
        "    lines = f.readlines()\n",
        "    for line in lines:\n",
        "      lu.append(line.strip(\"\\n\"))\n",
        "\n",
        "  i = 0\n",
        "  for y in range(0, img.shape[0], BLOCKSIZE):\n",
        "    for x in range(0, img.shape[1], BLOCKSIZE):\n",
        "        block = img[y:y+BLOCKSIZE, x:x+BLOCKSIZE, 0].astype(np.uint8)\n",
        "        temp = str(block).replace(\"\\n\", \"\")\n",
        "\n",
        "        if i < 1024:\n",
        "          if temp == cholesky[i]:\n",
        "            value1 = block[1, 0] / block[0, 0] # value1 = L[1, 0]\n",
        "            value2 = block[2, 0] / block[0, 0] # value2 = L[2, 0]\n",
        "            if value1 >= value2:\n",
        "              w[i] = 0\n",
        "            else:\n",
        "              w[i] = 255\n",
        "            i += 1\n",
        "\n",
        "  arnold_watermark = w.reshape(32, 32)\n",
        "  print(\"Watermark size: {}\".format(arnold_watermark.shape))\n",
        "  watermark = invert_arnold_transform(arnold_watermark, 10)\n",
        "  cv2.imwrite(outfilename, watermark)"
      ],
      "metadata": {
        "id": "KPQIFhSMEGEn"
      },
      "execution_count": null,
      "outputs": []
    },
    {
      "cell_type": "code",
      "source": [
        "extract(filename = \"/content/embed_watermark.bmp\",\n",
        "        outfilename = \"/content/extracted_watermark.png\")"
      ],
      "metadata": {
        "id": "LjlQlg7aDfGG"
      },
      "execution_count": null,
      "outputs": []
    },
    {
      "cell_type": "code",
      "source": [
        "def psnr(img1, img2):\n",
        "    mse = np.mean((img1 - img2)**2)\n",
        "    if mse == 0:\n",
        "        return 100\n",
        "    PIXEL_MAX = 255.0\n",
        "    return 20*math.log10(PIXEL_MAX/math.sqrt(mse))"
      ],
      "metadata": {
        "id": "-OhwVbEG9O8V"
      },
      "execution_count": null,
      "outputs": []
    },
    {
      "cell_type": "code",
      "source": [
        "img1 = cv2.imread('/content/avion.bmp')\n",
        "img2 = cv2.imread('/content/embed_watermark.bmp')\n",
        "psnr_index = psnr(img1, img2)\n",
        "print(f\"PSNR index: {psnr_index}\")"
      ],
      "metadata": {
        "id": "iHzUyTvH9ji-"
      },
      "execution_count": null,
      "outputs": []
    },
    {
      "cell_type": "code",
      "source": [
        "def mssim(img1, img2):\n",
        "    \"\"\"\n",
        "    Tính toán SSIM (Chỉ số tương tự về cấu trúc) cho hình ảnh đầy đủ.\n",
        "    \"\"\"\n",
        "    C1 = (0.01 * 255)**2\n",
        "    C2 = (0.03 * 255)**2\n",
        "\n",
        "    img1 = img1.astype(np.uint8)\n",
        "    img2 = img2.astype(np.uint8)\n",
        "\n",
        "    mean_img1 = np.mean(img1)\n",
        "    mean_img2 = np.mean(img2)\n",
        "\n",
        "    var_img1 = np.var(img1)\n",
        "    var_img2 = np.var(img2)\n",
        "\n",
        "    std_img1 = np.sqrt(var_img1)\n",
        "    std_img2 = np.sqrt(var_img2)\n",
        "\n",
        "    cov = np.mean((img1 - mean_img1) * (img2 - mean_img2))\n",
        "\n",
        "    numerator = (2 * mean_img1 * mean_img2 + C1) * (2 * cov + C2)\n",
        "    denominator = (mean_img1**2 + mean_img2**2 + C1) * (var_img1 + var_img2 + C2)\n",
        "\n",
        "    ssim_index = numerator / denominator\n",
        "    return ssim_index"
      ],
      "metadata": {
        "id": "rMIHW8an-m9-"
      },
      "execution_count": null,
      "outputs": []
    },
    {
      "cell_type": "code",
      "source": [
        "img1 = cv2.imread(\"/content/w_binary.png\", cv2.IMREAD_GRAYSCALE)\n",
        "img2 = cv2.imread('/content/extracted_watermark.png', cv2.IMREAD_GRAYSCALE)\n",
        "ssim_index = mssim(img1, img2)\n",
        "print(f\"SSIM index: {ssim_index}\")"
      ],
      "metadata": {
        "id": "vdg_DufHC2R6"
      },
      "execution_count": null,
      "outputs": []
    },
    {
      "cell_type": "code",
      "source": [
        "def nc(img1, img2):\n",
        "    # Chuyển đổi kiểu dữ liệu sang float để tính toán\n",
        "    image1 = img1.astype(np.float64)\n",
        "    image2 = img2.astype(np.float64)\n",
        "\n",
        "    # Tính giá trị trung bình của mỗi hình ảnh\n",
        "    mean_image1 = np.mean(image1)\n",
        "    mean_image2 = np.mean(image2)\n",
        "\n",
        "    # Chuẩn hóa hình ảnh bằng cách trừ đi giá trị trung bình\n",
        "    norm_image1 = image1 - mean_image1\n",
        "    norm_image2 = image2 - mean_image2\n",
        "\n",
        "    # Tính tử số và mẫu số của công thức NC\n",
        "    numerator = np.sum(norm_image1 * norm_image2)\n",
        "    denominator = np.sqrt(np.sum(norm_image1**2) * np.sum(norm_image2**2))\n",
        "\n",
        "    # Tránh chia cho 0\n",
        "    if denominator == 0:\n",
        "        return 0\n",
        "\n",
        "    # Tính và trả về chỉ số NC\n",
        "    nc_index = numerator / denominator\n",
        "    return nc_index"
      ],
      "metadata": {
        "id": "o2bRa6gm8vub"
      },
      "execution_count": null,
      "outputs": []
    },
    {
      "cell_type": "code",
      "source": [
        "img1 = cv2.imread('/content/w_binary.png')\n",
        "img2 = cv2.imread('/content/extracted_watermark.png')\n",
        "nc_index = nc(img1, img2)\n",
        "print(f\"NC index: {nc_index}\")"
      ],
      "metadata": {
        "id": "l2ap-1rl5Ux5"
      },
      "execution_count": null,
      "outputs": []
    }
  ]
}