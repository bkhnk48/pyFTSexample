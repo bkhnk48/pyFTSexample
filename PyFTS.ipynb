import os
import sys
import pandas as pd
import numpy as np

import plotly.express as px
import plotly.graph_objects as go
from statsmodels.graphics.tsaplots import plot_acf, plot_pacf
import matplotlib.pylab as plt
from statsmodels.api import tsa

#pylab inline

from pyFTS.partitioners import Grid
from pyFTS.models import chen, cheng
from pyFTS.common import Util , Transformations
from pyFTS.benchmarks import Measures

from sklearn.metrics import mean_squared_error, mean_absolute_error

raw_df = pd.read_csv('online_retail_II.csv')
raw_df.head()

raw_df.describe()

raw_df.describe(include=['O'])

raw_df.info()

cancellation_dataset = raw_df.loc[raw_df['Invoice'].str.contains("C", regex=False, na=False)]
display(cancellation_dataset.sample(15))

idx_tmp = cancellation_dataset.index
raw_df = raw_df.drop(idx_tmp)
raw_df = raw_df.drop(raw_df.loc[raw_df.Quantity<0].index)
raw_df.shape

input_df = raw_df[['InvoiceDate', 'Quantity']]
input_df.head()

input_df = input_df.set_index('InvoiceDate')
input_df = input_df.groupby(pd.Grouper(freq='D')).sum()
input_df.head()

input_df.shape
px.line(input_df, x=input_df.index, y="Quantity")
display(plot_acf(input_df))
display(plot_pacf(input_df))

composition = tsa.seasonal_decompose(input_df)
display(composition.plot())

data = input_df.Quantity.values
tdiff = Transformations.Differential(1)

# boxcox = Transformations.BoxCox(0)

# diff_data = tdiff.apply(data)

train = data[:-30]
test = data[-30:]

fs = Grid.GridPartitioner(data=data,npart=20, transformation=tdiff)

fig, ax = plt.subplots(nrows=1, ncols=1, figsize=[25,10])

fs.plot(ax)
model = cheng.TrendWeightedFTS(partitioner=fs, transformation=tdiff)
model.fit(train)
model.append_transformation(tdiff)
print(model)
prediction = model.predict(test, transformation=tdiff)

fig = go.Figure()
fig.add_trace(go.Scatter(x=input_df.index[-30:], y=test,
                    mode='lines',
                    name='Real'))
fig.add_trace(go.Scatter(x=input_df.index[-30:], y=prediction,
                    mode='lines',
                    name='Prediction'))
fig.show()
